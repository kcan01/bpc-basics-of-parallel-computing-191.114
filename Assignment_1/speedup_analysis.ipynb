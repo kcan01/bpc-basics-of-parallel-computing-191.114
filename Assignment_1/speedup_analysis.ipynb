{
 "cells": [
  {
   "cell_type": "markdown",
   "id": "f5925447",
   "metadata": {},
   "source": [
    "# Task 3: Speed-up Analysis"
   ]
  },
  {
   "cell_type": "code",
   "execution_count": 80,
   "id": "a5bc9432",
   "metadata": {},
   "outputs": [],
   "source": [
    "import numpy as np\n",
    "import pandas as pd\n",
    "import matplotlib.pyplot as plt"
   ]
  },
  {
   "cell_type": "code",
   "execution_count": 81,
   "id": "0e22065d",
   "metadata": {},
   "outputs": [],
   "source": [
    "def t_best_seq(n):\n",
    "    return n * np.log(n)\n",
    "\n",
    "def t_parallel_algo_1(n, p):\n",
    "    return ((n * np.log(n)) / p) + np.log(n)\n",
    "\n",
    "def t_parallel_algo_2(n, p):\n",
    "    return ((n * np.log(n)) / p) + n"
   ]
  },
  {
   "cell_type": "code",
   "execution_count": 82,
   "id": "cee278ba",
   "metadata": {},
   "outputs": [],
   "source": [
    "INPUT_SIZE_N = 1000\n",
    "n_processors = [4, 16, 64]"
   ]
  },
  {
   "cell_type": "markdown",
   "id": "f71068d6",
   "metadata": {},
   "source": [
    "### 3.1 Absolute speed-up"
   ]
  },
  {
   "cell_type": "code",
   "execution_count": 83,
   "id": "7b3ed6cb",
   "metadata": {},
   "outputs": [
    {
     "data": {
      "text/html": [
       "<div>\n",
       "<style scoped>\n",
       "    .dataframe tbody tr th:only-of-type {\n",
       "        vertical-align: middle;\n",
       "    }\n",
       "\n",
       "    .dataframe tbody tr th {\n",
       "        vertical-align: top;\n",
       "    }\n",
       "\n",
       "    .dataframe thead th {\n",
       "        text-align: right;\n",
       "    }\n",
       "</style>\n",
       "<table border=\"1\" class=\"dataframe\">\n",
       "  <thead>\n",
       "    <tr style=\"text-align: right;\">\n",
       "      <th></th>\n",
       "      <th>p</th>\n",
       "    </tr>\n",
       "  </thead>\n",
       "  <tbody>\n",
       "    <tr>\n",
       "      <th>0</th>\n",
       "      <td>4</td>\n",
       "    </tr>\n",
       "    <tr>\n",
       "      <th>1</th>\n",
       "      <td>16</td>\n",
       "    </tr>\n",
       "    <tr>\n",
       "      <th>2</th>\n",
       "      <td>64</td>\n",
       "    </tr>\n",
       "  </tbody>\n",
       "</table>\n",
       "</div>"
      ],
      "text/plain": [
       "    p\n",
       "0   4\n",
       "1  16\n",
       "2  64"
      ]
     },
     "execution_count": 83,
     "metadata": {},
     "output_type": "execute_result"
    }
   ],
   "source": [
    "df = pd.DataFrame(n_processors, columns=[\"p\"])\n",
    "df"
   ]
  },
  {
   "cell_type": "code",
   "execution_count": 84,
   "id": "e936394d",
   "metadata": {},
   "outputs": [
    {
     "name": "stdout",
     "output_type": "stream",
     "text": [
      "ALGO 1 - Absolute speedup with 4 processors: 3.98\n",
      "ALGO 2 - Absolute speedup with 4 processors: 2.53\n",
      "ALGO 1 - Absolute speedup with 16 processors: 15.75\n",
      "ALGO 2 - Absolute speedup with 16 processors: 4.82\n",
      "ALGO 1 - Absolute speedup with 64 processors: 60.15\n",
      "ALGO 2 - Absolute speedup with 64 processors: 6.23\n"
     ]
    }
   ],
   "source": [
    "speedups_algo_1 = []\n",
    "speedups_algo_2 = []\n",
    "\n",
    "for p in n_processors:\n",
    "    abs_speedup_algo_1 = t_best_seq(INPUT_SIZE_N) / t_parallel_algo_1(INPUT_SIZE_N, p)\n",
    "    abs_speedup_algo_2 = t_best_seq(INPUT_SIZE_N) / t_parallel_algo_2(INPUT_SIZE_N, p)\n",
    "    speedups_algo_1.append(abs_speedup_algo_1)\n",
    "    speedups_algo_2.append(abs_speedup_algo_2)\n",
    "    print(f\"ALGO 1 - Absolute speedup with {p} processors: {abs_speedup_algo_1:.2f}\")\n",
    "    print(f\"ALGO 2 - Absolute speedup with {p} processors: {abs_speedup_algo_2:.2f}\")\n",
    "\n",
    "df[\"speedup_algo_1\"] = speedups_algo_1\n",
    "df[\"speedup_algo_2\"] = speedups_algo_2"
   ]
  },
  {
   "cell_type": "code",
   "execution_count": 85,
   "id": "5872ba62",
   "metadata": {},
   "outputs": [
    {
     "data": {
      "text/html": [
       "<div>\n",
       "<style scoped>\n",
       "    .dataframe tbody tr th:only-of-type {\n",
       "        vertical-align: middle;\n",
       "    }\n",
       "\n",
       "    .dataframe tbody tr th {\n",
       "        vertical-align: top;\n",
       "    }\n",
       "\n",
       "    .dataframe thead th {\n",
       "        text-align: right;\n",
       "    }\n",
       "</style>\n",
       "<table border=\"1\" class=\"dataframe\">\n",
       "  <thead>\n",
       "    <tr style=\"text-align: right;\">\n",
       "      <th></th>\n",
       "      <th>p</th>\n",
       "      <th>speedup_algo_1</th>\n",
       "      <th>speedup_algo_2</th>\n",
       "    </tr>\n",
       "  </thead>\n",
       "  <tbody>\n",
       "    <tr>\n",
       "      <th>0</th>\n",
       "      <td>4</td>\n",
       "      <td>3.984064</td>\n",
       "      <td>2.533154</td>\n",
       "    </tr>\n",
       "    <tr>\n",
       "      <th>1</th>\n",
       "      <td>16</td>\n",
       "      <td>15.748031</td>\n",
       "      <td>4.824745</td>\n",
       "    </tr>\n",
       "    <tr>\n",
       "      <th>2</th>\n",
       "      <td>64</td>\n",
       "      <td>60.150376</td>\n",
       "      <td>6.234809</td>\n",
       "    </tr>\n",
       "  </tbody>\n",
       "</table>\n",
       "</div>"
      ],
      "text/plain": [
       "    p  speedup_algo_1  speedup_algo_2\n",
       "0   4        3.984064        2.533154\n",
       "1  16       15.748031        4.824745\n",
       "2  64       60.150376        6.234809"
      ]
     },
     "execution_count": 85,
     "metadata": {},
     "output_type": "execute_result"
    }
   ],
   "source": [
    "df"
   ]
  },
  {
   "cell_type": "markdown",
   "id": "8d765490",
   "metadata": {},
   "source": [
    "### 3.2 Parallel efficiency"
   ]
  },
  {
   "cell_type": "code",
   "execution_count": 86,
   "id": "d49993cb",
   "metadata": {},
   "outputs": [
    {
     "data": {
      "text/html": [
       "<div>\n",
       "<style scoped>\n",
       "    .dataframe tbody tr th:only-of-type {\n",
       "        vertical-align: middle;\n",
       "    }\n",
       "\n",
       "    .dataframe tbody tr th {\n",
       "        vertical-align: top;\n",
       "    }\n",
       "\n",
       "    .dataframe thead th {\n",
       "        text-align: right;\n",
       "    }\n",
       "</style>\n",
       "<table border=\"1\" class=\"dataframe\">\n",
       "  <thead>\n",
       "    <tr style=\"text-align: right;\">\n",
       "      <th></th>\n",
       "      <th>p</th>\n",
       "      <th>speedup_algo_1</th>\n",
       "      <th>speedup_algo_2</th>\n",
       "      <th>parallel_eff_algo_1</th>\n",
       "      <th>parallel_eff_algo_2</th>\n",
       "    </tr>\n",
       "  </thead>\n",
       "  <tbody>\n",
       "    <tr>\n",
       "      <th>0</th>\n",
       "      <td>4</td>\n",
       "      <td>3.984064</td>\n",
       "      <td>2.533154</td>\n",
       "      <td>0.996016</td>\n",
       "      <td>0.633288</td>\n",
       "    </tr>\n",
       "    <tr>\n",
       "      <th>1</th>\n",
       "      <td>16</td>\n",
       "      <td>15.748031</td>\n",
       "      <td>4.824745</td>\n",
       "      <td>0.984252</td>\n",
       "      <td>0.301547</td>\n",
       "    </tr>\n",
       "    <tr>\n",
       "      <th>2</th>\n",
       "      <td>64</td>\n",
       "      <td>60.150376</td>\n",
       "      <td>6.234809</td>\n",
       "      <td>0.939850</td>\n",
       "      <td>0.097419</td>\n",
       "    </tr>\n",
       "  </tbody>\n",
       "</table>\n",
       "</div>"
      ],
      "text/plain": [
       "    p  speedup_algo_1  speedup_algo_2  parallel_eff_algo_1  \\\n",
       "0   4        3.984064        2.533154             0.996016   \n",
       "1  16       15.748031        4.824745             0.984252   \n",
       "2  64       60.150376        6.234809             0.939850   \n",
       "\n",
       "   parallel_eff_algo_2  \n",
       "0             0.633288  \n",
       "1             0.301547  \n",
       "2             0.097419  "
      ]
     },
     "execution_count": 86,
     "metadata": {},
     "output_type": "execute_result"
    }
   ],
   "source": [
    "df[\"parallel_eff_algo_1\"] = df[\"speedup_algo_1\"] / df[\"p\"]\n",
    "df[\"parallel_eff_algo_2\"] = df[\"speedup_algo_2\"] / df[\"p\"]\n",
    "\n",
    "df"
   ]
  },
  {
   "cell_type": "code",
   "execution_count": 87,
   "id": "5700215c",
   "metadata": {},
   "outputs": [
    {
     "data": {
      "image/png": "[encoded data removed]",
      "text/plain": [
       "<Figure size 800x500 with 1 Axes>"
      ]
     },
     "metadata": {},
     "output_type": "display_data"
    }
   ],
   "source": [
    "plt.figure(figsize=(8, 5))\n",
    "plt.plot(df[\"p\"], df[\"parallel_eff_algo_1\"], marker=\"o\", color=\"#01cdfe\", label=\"Algo 1 Eff\")\n",
    "plt.plot(df[\"p\"], df[\"parallel_eff_algo_2\"], marker=\"o\", color=\"#88d8b0\", label=\"Algo 2 Eff\")\n",
    "plt.axhline(y=1, color=\"red\", label=\"Optimal Eff\")\n",
    "\n",
    "plt.title(\"Parallel efficiency vs. number of processors\")\n",
    "plt.xlabel(\"Number of processors\")\n",
    "plt.ylabel(\"Parallel efficiency\")\n",
    "plt.ylim((0, 1.2))\n",
    "plt.legend()\n",
    "plt.grid(True)\n",
    "plt.show()"
   ]
  }
 ],
 "metadata": {
  "kernelspec": {
   "display_name": "base",
   "language": "python",
   "name": "python3"
  },
  "language_info": {
   "codemirror_mode": {
    "name": "ipython",
    "version": 3
   },
   "file_extension": ".py",
   "mimetype": "text/x-python",
   "name": "python",
   "nbconvert_exporter": "python",
   "pygments_lexer": "ipython3",
   "version": "3.9.13"
  }
 },
 "nbformat": 4,
 "nbformat_minor": 5
}
